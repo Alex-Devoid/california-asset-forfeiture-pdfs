{
 "cells": [
  {
   "cell_type": "code",
   "execution_count": 19,
   "id": "254eb53d",
   "metadata": {},
   "outputs": [
    {
     "name": "stdout",
     "output_type": "stream",
     "text": [
      "<a href=\"/system/files/media/2020-af_1.pdf\">2020 Asset Forfeiture Annual Report, pdf</a>\n",
      "#asset\n",
      "pdf\n",
      "pdf\n",
      "pdf?\n",
      "pdf?\n",
      "pdf?\n",
      "pdf?\n",
      "pdf?\n",
      "pdf?\n",
      "pdf\n",
      "pdf\n",
      "pdf\n",
      "pdf\n",
      "pdf\n",
      "pdf\n",
      "pdf\n",
      "pdf\n",
      "pdf\n",
      "pdf\n",
      "pdf\n",
      "pdf\n",
      "/publications#asset\n"
     ]
    }
   ],
   "source": [
    "import requests\n",
    "from bs4 import BeautifulSoup\n",
    "\n",
    "\n",
    "\n",
    "\n",
    "res = requests.get('https://oag.ca.gov/publications')\n",
    "\n",
    "if res.status_code != 200:\n",
    "    'no resquest'\n",
    "\n",
    "soup = BeautifulSoup(res.content, \"html.parser\")\n",
    "\n",
    "links_with_article = soup.findAll(lambda tag:tag.name==\"a\" and \"asset\" in tag.text.lower() and tag.get('href'))\n",
    "print(links_with_article[2])\n",
    "\n",
    "pdfs_to_get = []\n",
    "for a in links_with_article:\n",
    "    print(a[\"href\"].split(\".\")[-1])\n",
    "    \n",
    "    if a[\"href\"].split(\".\")[-1] == \"pdf\" or a[\"href\"].split(\".\")[-1] == \"pdf?\":\n",
    "        pdfs_to_get.append(a[\"href\"])\n",
    "        \n",
    "\n",
    "\n",
    "\n",
    "for link in pdfs_to_get:\n",
    "    response = requests.get('https://oag.ca.gov'+link)\n",
    "    link=link.replace('?', '')\n",
    "    # Write content in pdf file\n",
    "    pdf = open(link.split(\"/\")[-1], 'wb')\n",
    "    pdf.write(response.content)\n",
    "    pdf.close()\n",
    "    "
   ]
  },
  {
   "cell_type": "code",
   "execution_count": null,
   "id": "9db676f0",
   "metadata": {},
   "outputs": [],
   "source": []
  }
 ],
 "metadata": {
  "kernelspec": {
   "display_name": "Python 3 (ipykernel)",
   "language": "python",
   "name": "python3"
  },
  "language_info": {
   "codemirror_mode": {
    "name": "ipython",
    "version": 3
   },
   "file_extension": ".py",
   "mimetype": "text/x-python",
   "name": "python",
   "nbconvert_exporter": "python",
   "pygments_lexer": "ipython3",
   "version": "3.10.6"
  }
 },
 "nbformat": 4,
 "nbformat_minor": 5
}
